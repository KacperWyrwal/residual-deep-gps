{
 "cells": [
  {
   "cell_type": "code",
   "execution_count": 1,
   "metadata": {},
   "outputs": [],
   "source": [
    "from itertools import product"
   ]
  },
  {
   "cell_type": "markdown",
   "metadata": {},
   "source": [
    "Change the values of the variables below to contrain or expand the range of experiments ran. With the current settings, the entire range presented in the paper is ran."
   ]
  },
  {
   "cell_type": "code",
   "execution_count": 3,
   "metadata": {},
   "outputs": [],
   "source": [
    "num_iters = 5000\n",
    "\n",
    "\n",
    "dataset_names = [\n",
    "    \"yacht\",\n",
    "    \"concrete\",\n",
    "    \"energy\",\n",
    "    \"kin8mn\",\n",
    "    \"power\",\n",
    "]\n",
    "\n",
    "model_names = [\n",
    "    \"euclidean+inducing_points\",\n",
    "    \"residual+spherical_harmonic_features\",\n",
    "]\n",
    "\n",
    "nums_layers = [\n",
    "    1, 2, 3, 4, 5,\n",
    "]\n",
    "\n",
    "\n",
    "seeds = [0, 1, 2, 3, 4]"
   ]
  },
  {
   "cell_type": "code",
   "execution_count": 20,
   "metadata": {},
   "outputs": [],
   "source": [
    "command_template = \"python run_uci.py --dataset {dataset} --model {model} --num_layers {num_layers} --seed {seed} --batch_size {batch_size} --num_iters {num_iters}\"\n",
    "\n",
    "\n",
    "commands = []\n",
    "for dataset, model, num_layers, seed in product(dataset_names, model_names, nums_layers, seeds):\n",
    "    command = command_template.format(\n",
    "        dataset=dataset, \n",
    "        model=model, \n",
    "        num_layers=num_layers, \n",
    "        seed=seed, \n",
    "        batch_size=None if dataset not in [\"kin8mn\", \"power\"] else 1000,\n",
    "        num_iters=num_iters,\n",
    "    )\n",
    "    commands.append(command)\n",
    "\n",
    "\n",
    "with open(\"run_uci.sh\", \"w\") as f:\n",
    "    f.write(\"#!/bin/bash\\n\\n\")\n",
    "    f.write(\"\\n\".join(commands))"
   ]
  }
 ],
 "metadata": {
  "kernelspec": {
   "display_name": "mdgp-jax2",
   "language": "python",
   "name": "python3"
  },
  "language_info": {
   "codemirror_mode": {
    "name": "ipython",
    "version": 3
   },
   "file_extension": ".py",
   "mimetype": "text/x-python",
   "name": "python",
   "nbconvert_exporter": "python",
   "pygments_lexer": "ipython3",
   "version": "3.10.14"
  }
 },
 "nbformat": 4,
 "nbformat_minor": 2
}
