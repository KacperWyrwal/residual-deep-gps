{
 "cells": [
  {
   "cell_type": "code",
   "execution_count": 1,
   "metadata": {},
   "outputs": [],
   "source": [
    "from itertools import product"
   ]
  },
  {
   "cell_type": "markdown",
   "metadata": {},
   "source": [
    "Change the values of the variables below to contrain or expand the range of experiments ran. With the current settings, the entire range presented in the paper is ran."
   ]
  },
  {
   "cell_type": "code",
   "execution_count": 2,
   "metadata": {},
   "outputs": [],
   "source": [
    "num_train = [\n",
    "    100, \n",
    "    200, \n",
    "    400, \n",
    "    800, \n",
    "    1600,\n",
    "]\n",
    "\n",
    "model_names = [\n",
    "    'euclidean_with_geometric_input+inducing_points',\n",
    "    'residual+inducing_points',\n",
    "    'residual+spherical_harmonic_features',\n",
    "    'residual+hodge+spherical_harmonic_features',\n",
    "]\n",
    "\n",
    "nums_layers = [\n",
    "    1, 2, 3, 4, 5,\n",
    "]\n",
    "\n",
    "seeds = [\n",
    "    0, 1, 2, 3, 4,\n",
    "]"
   ]
  },
  {
   "cell_type": "code",
   "execution_count": 4,
   "metadata": {},
   "outputs": [],
   "source": [
    "command_template = \"python run_synthetic.py --num_train {num_train} --model_name {model_name} --num_layers {num_layers} --seed {seed} --num_inducing {num_inducing}\"\n",
    "commands = []\n",
    "\n",
    "for seed, num_train, num_layers, model_name in product(seeds, num_train, nums_layers, model_names):\n",
    "    command = command_template.format(\n",
    "        num_train=num_train,\n",
    "        model_name=model_name,\n",
    "        num_layers=num_layers,\n",
    "        seed=seed,\n",
    "        num_inducing=72 if 'hodge' in model_name else 49,\n",
    "    )\n",
    "    commands.append(command)\n",
    "\n",
    "\n",
    "with open(\"run_synthetic.sh\", \"w\") as f:\n",
    "    f.write(\"#!/bin/bash\\n\\n\")\n",
    "    f.write(\"\\n\".join(commands))"
   ]
  }
 ],
 "metadata": {
  "kernelspec": {
   "display_name": "mdgp-jax2",
   "language": "python",
   "name": "python3"
  },
  "language_info": {
   "codemirror_mode": {
    "name": "ipython",
    "version": 3
   },
   "file_extension": ".py",
   "mimetype": "text/x-python",
   "name": "python",
   "nbconvert_exporter": "python",
   "pygments_lexer": "ipython3",
   "version": "3.10.14"
  }
 },
 "nbformat": 4,
 "nbformat_minor": 2
}
