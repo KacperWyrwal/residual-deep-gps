{
 "cells": [
  {
   "cell_type": "code",
   "execution_count": 1,
   "metadata": {},
   "outputs": [],
   "source": [
    "from itertools import product"
   ]
  },
  {
   "cell_type": "markdown",
   "metadata": {},
   "source": [
    "Change the values of the variables below to contrain or expand the range of experiments ran. With the current settings, the entire range presented in the paper is ran."
   ]
  },
  {
   "cell_type": "code",
   "execution_count": 12,
   "metadata": {},
   "outputs": [],
   "source": [
    "num_iters = 100\n",
    "model_names = [\n",
    "    \"euclidean+inducing_points\",\n",
    "    \"residual+spherical_harmonic_features\",\n",
    "]\n",
    "nums_layers = [\n",
    "    1, 2, 3, 4, 5,\n",
    "]\n",
    "datasets = [\n",
    "    'yacht', \n",
    "    'concrete',\n",
    "    'energy',\n",
    "    'kin8mn',\n",
    "    'power',\n",
    "]"
   ]
  },
  {
   "cell_type": "code",
   "execution_count": 18,
   "metadata": {},
   "outputs": [],
   "source": [
    "command_template = \"python run_time_uci.py --dataset {dataset} --model {model} --num_layers {num_layers} --num_iters {num_iters}\"\n",
    "\n",
    "commands = []\n",
    "for dataset, model_name, num_layers in product(datasets, model_names, nums_layers):\n",
    "    command = command_template.format(dataset=dataset, model=model_name, num_layers=num_layers, num_iters=num_iters)\n",
    "    commands.append(command)\n",
    "\n",
    "with open(\"run_time_uci.sh\", \"w\") as f:\n",
    "    f.write(\"#!/bin/bash\\n\\n\")\n",
    "    f.write(\"\\n\".join(commands))"
   ]
  }
 ],
 "metadata": {
  "kernelspec": {
   "display_name": "mdgp-jax2",
   "language": "python",
   "name": "python3"
  },
  "language_info": {
   "codemirror_mode": {
    "name": "ipython",
    "version": 3
   },
   "file_extension": ".py",
   "mimetype": "text/x-python",
   "name": "python",
   "nbconvert_exporter": "python",
   "pygments_lexer": "ipython3",
   "version": "3.10.14"
  }
 },
 "nbformat": 4,
 "nbformat_minor": 2
}
