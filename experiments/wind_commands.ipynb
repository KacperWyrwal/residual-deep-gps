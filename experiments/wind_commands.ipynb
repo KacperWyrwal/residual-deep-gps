{
 "cells": [
  {
   "cell_type": "code",
   "execution_count": 1,
   "metadata": {},
   "outputs": [],
   "source": [
    "from itertools import product"
   ]
  },
  {
   "cell_type": "markdown",
   "metadata": {},
   "source": [
    "Change the values of the variables below to contrain or expand the range of experiments ran. With the current settings, the entire range presented in the paper is ran."
   ]
  },
  {
   "cell_type": "code",
   "execution_count": 4,
   "metadata": {},
   "outputs": [],
   "source": [
    "times = [\n",
    "    0, 1, 2, 3, 4, 5, 6, 7, 8, 9, 10, 11,\n",
    "]\n",
    "levels = [\n",
    "    0, 7, 15,\n",
    "]\n",
    "seeds = [\n",
    "    0, 1, 2, 3, 4,\n",
    "]\n",
    "nums_layers = [\n",
    "    1, 2, 3, 4, 5,\n",
    "]"
   ]
  },
  {
   "cell_type": "code",
   "execution_count": 6,
   "metadata": {},
   "outputs": [],
   "source": [
    "command_template = \"python run_wind.py --time {time} --level {level} --seed {seed} --num_layers {num_layers}\"\n",
    "\n",
    "\n",
    "commands = []\n",
    "for time, level, seed, num_layers in product(times, levels, seeds, nums_layers):\n",
    "    command = command_template.format(time=time, level=level, seed=seed, num_layers=num_layers)\n",
    "    commands.append(command)\n",
    "\n",
    "\n",
    "with open(\"run_wind.sh\", \"w\") as f:\n",
    "    f.write(\"#!/bin/bash\\n\\n\")\n",
    "    f.write(\"\\n\".join(commands))"
   ]
  }
 ],
 "metadata": {
  "kernelspec": {
   "display_name": "mdgp-jax2",
   "language": "python",
   "name": "python3"
  },
  "language_info": {
   "codemirror_mode": {
    "name": "ipython",
    "version": 3
   },
   "file_extension": ".py",
   "mimetype": "text/x-python",
   "name": "python",
   "nbconvert_exporter": "python",
   "pygments_lexer": "ipython3",
   "version": "3.10.14"
  }
 },
 "nbformat": 4,
 "nbformat_minor": 2
}
